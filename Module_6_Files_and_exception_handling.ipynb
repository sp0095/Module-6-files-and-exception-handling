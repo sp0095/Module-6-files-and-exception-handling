{
  "nbformat": 4,
  "nbformat_minor": 0,
  "metadata": {
    "colab": {
      "provenance": []
    },
    "kernelspec": {
      "name": "python3",
      "display_name": "Python 3"
    },
    "language_info": {
      "name": "python"
    }
  },
  "cells": [
    {
      "cell_type": "code",
      "execution_count": null,
      "metadata": {
        "id": "zKQnpWixd9QJ"
      },
      "outputs": [],
      "source": []
    },
    {
      "cell_type": "markdown",
      "source": [
        "**1. What is the difference between interpreted and compiled languages?**\n",
        "\n",
        "\n",
        "**Execution:** Code is translated into machine code line by line at runtime by an interpreter.\n",
        "\n",
        "**Development:** Easier to debug since it executes code directly and stops at errors.\n",
        "\n",
        "**Speed: **Generally slower execution since translation occurs during runtime.\n",
        "\n",
        "**Examples:** Python, JavaScript, Ruby.\n",
        "\n",
        "**Compiled Languages**\n",
        "\n",
        "**Execution:** Code is translated into machine code by a compiler before it is run.\n",
        "\n",
        "**Development:** Compilation must occur before execution, potentially making debugging more complex.\n",
        "\n",
        "**Speed:** Generally faster execution since the code is pre-translated into machine code.\n",
        "\n",
        "**Examples:** C, C++, Rust.\n"
      ],
      "metadata": {
        "id": "luxrJObBeQjl"
      }
    },
    {
      "cell_type": "markdown",
      "source": [
        "**2. What is exception handling in Python?**\n",
        "\n",
        "\n",
        "Exception handling in Python is a mechanism that allows you to handle runtime errors, or exceptions, in a clean and controlled way. Instead of letting your program crash when an error occurs, you can use exception handling to manage the error gracefully."
      ],
      "metadata": {
        "id": "Mv2D4AaYfAFT"
      }
    },
    {
      "cell_type": "markdown",
      "source": [
        "**3. What is the purpose of the finally block in exception handling?**\n",
        "\n",
        "The finally block in exception handling serves a specific and important purpose: it allows you to specify cleanup code that must execute, regardless of whether an exception was raised or not. This is useful for tasks like closing files, releasing resources, or any other cleanup activities that need to occur to ensure the program runs smoothly.\n",
        "\n",
        "\n",
        "\n"
      ],
      "metadata": {
        "id": "Syz83pR7fsnE"
      }
    },
    {
      "cell_type": "markdown",
      "source": [
        "**4. What is logging in Python?**\n",
        "\n",
        "Logging in Python is a powerful mechanism that allows you to track events that happen when your program runs. By recording these events, you can better understand the flow of your program, diagnose issues, and keep a record of important events or errors."
      ],
      "metadata": {
        "id": "U7QKiQUEgBYB"
      }
    },
    {
      "cell_type": "markdown",
      "source": [
        "**5. What is the significance of the __del__ method in Python?**\n",
        "\n",
        "The __del__ method in Python is a special method that is called when an object is about to be destroyed. It is also known as a destructor. The main purpose of the __del__ method is to clean up any resources or perform any final tasks before an object is removed from memory.\n",
        "\n",
        "**Here are a few key points about the __del__ method:**\n",
        "\n",
        "**Resource Cleanup:** You can use the __del__ method to release resources such as closing files, releasing network connections, or freeing up memory that the object was using.\n",
        "\n",
        "**Automatic Invocation: **The __del__ method is invoked automatically by the Python garbage collector when an object is no longer in use, meaning there are no references to it.\n",
        "\n",
        "**Explicit Deletion:** While you don't typically need to call __del__ manually, you can use the del statement to explicitly delete an object and trigger the __del__ method.\n",
        "\n",
        "**Order of Execution:** The exact timing of when the __del__ method is called is not guaranteed, as it depends on the garbage collector's activity. This means that relying on __del__ for critical resource management can be risky.\n",
        "\n",
        "**Exception Handling:** Any exceptions raised within the __del__ method are ignored and not propagated, so it's important to handle exceptions within this method carefully.\n",
        "\n",
        "\n",
        "\n"
      ],
      "metadata": {
        "id": "wJnOngJ5gimz"
      }
    },
    {
      "cell_type": "markdown",
      "source": [
        "**6. What is the difference between import and from ... import in Python?**\n",
        "\n",
        "The difference between import and from ... import in Python lies in how modules and specific attributes (such as functions, classes, or variables) are imported. Here's a detailed explanation of each:\n",
        "\n",
        "**import Statement**\n",
        "\n",
        "The import statement is used to import an entire module. When you use import, you have to reference the module name each time you use an attribute from that module.\n",
        "\n",
        "**Example:**\n",
        "\n",
        "import module_name\n",
        "\n",
        "from module_name import attribute_name\n",
        "\n",
        "\n"
      ],
      "metadata": {
        "id": "kVNpUMY0Kd0o"
      }
    },
    {
      "cell_type": "markdown",
      "source": [
        "**7. How can you handle multiple exceptions in Python?**\n",
        "\n",
        "In Python, you can handle multiple exceptions by using multiple except blocks or by specifying a tuple of exception types in a single except block.\n",
        "\n",
        "**Using Multiple except Blocks**\n",
        "\n",
        "You can handle different types of exceptions separately by using multiple except blocks. This allows you to provide specific handling for each type of exception."
      ],
      "metadata": {
        "id": "yvcaOkZkLirX"
      }
    },
    {
      "cell_type": "markdown",
      "source": [
        "**8. What is the purpose of the with statement when handling files in Python?**\n",
        "\n",
        "The with statement in Python is used for resource management and is particularly useful when handling files. Its primary purpose is to ensure that resources, such as files, are properly opened and closed, even if an error occurs while the resource is being used.\n",
        "\n",
        "**Syntax:**\n",
        "\n",
        "with open('filename.txt', 'mode') as file:\n",
        "    # Code to work with the file\n"
      ],
      "metadata": {
        "id": "YH_KAlo7MJJH"
      }
    },
    {
      "cell_type": "markdown",
      "source": [
        "**9. What is the difference between multithreading and multiprocessing?**\n",
        "\n",
        "Key Differences\n",
        "\n",
        "**Memory Sharing:**\n",
        "\n",
        "Multithreading: Threads share the same memory space.\n",
        "\n",
        "Multiprocessing: Processes have separate memory spaces.\n",
        "\n",
        "**Overhead:**\n",
        "\n",
        "Multithreading: Lower overhead due to shared memory.\n",
        "\n",
        "Multiprocessing: Higher overhead due to separate memory spaces.\n",
        "\n",
        "**Suitability:**\n",
        "\n",
        "Multithreading: Best for I/O-bound tasks.\n",
        "\n",
        "Multiprocessing: Best for CPU-bound tasks.\n",
        "\n",
        "**GIL:**\n",
        "\n",
        "Multithreading: Limited by the GIL in CPython.\n",
        "\n",
        "Multiprocessing: Not affected by the GIL.\n"
      ],
      "metadata": {
        "id": "pv8BG0wsMc23"
      }
    },
    {
      "cell_type": "markdown",
      "source": [
        "**10. What are the advantages of using logging in a program?**\n",
        "\n",
        "Advantages of Using Logging\n",
        "\n",
        "**Debugging and Troubleshooting:**\n",
        "\n",
        "Logging helps developers track the flow of execution and identify where and why errors occur.\n",
        "\n",
        "By examining log messages, you can understand the state of the application at various points, making it easier to diagnose and fix issues.\n",
        "\n",
        "**Monitoring and Maintenance:**\n",
        "\n",
        "Logging provides valuable insights into the behavior and performance of an application in a live environment.\n",
        "\n",
        "It helps monitor critical events, resource usage, and potential issues, enabling proactive maintenance and timely responses to problems.\n",
        "\n",
        "**Audit and Compliance**:\n",
        "\n",
        "Logs can serve as an audit trail, recording important actions and events within the application.\n",
        "\n",
        "They help ensure compliance with security and regulatory requirements by providing evidence of what happened and when.\n",
        "\n",
        "**Performance Analysis:**\n",
        "\n",
        "Logging can be used to measure and analyze the performance of different parts of the application.\n",
        "\n",
        "By logging execution times and resource usage, you can identify bottlenecks and optimize performance.\n",
        "\n",
        "**User Behavior Tracking:**\n",
        "\n",
        "Logging user actions and interactions with the application can provide valuable insights into user behavior and preferences.\n",
        "\n",
        "This information can be used to improve the user experience and inform business decisions.\n",
        "\n",
        "**Error Reporting and Alerting:**\n",
        "\n",
        "Logging enables automated error reporting and alerting mechanisms.\n",
        "\n",
        "By setting up alerts for specific log messages or patterns, you can be notified of critical issues in real-time and take immediate action.\n",
        "\n",
        "**Persistency and History:**\n",
        "\n",
        "Logs provide a persistent record of events and actions, allowing you to review historical data and analyze trends over time.\n",
        "\n",
        "This historical context can be invaluable for understanding long-term patterns and making informed decisions."
      ],
      "metadata": {
        "id": "5u7U5Nf7NIQg"
      }
    },
    {
      "cell_type": "markdown",
      "source": [
        "**11. What is memory management in Python?**\n",
        "\n",
        "Memory management in Python involves the handling and allocation of memory to ensure efficient use of system resources and prevent memory leaks."
      ],
      "metadata": {
        "id": "GQ5foRSoNknn"
      }
    },
    {
      "cell_type": "markdown",
      "source": [
        "**12. What are the basic steps involved in exception handling in Python?**\n",
        "\n",
        "Exception handling in Python involves detecting and responding to errors during program execution in a controlled manner. Here are the basic steps involved:\n",
        "\n",
        "**1. Try Block**\n",
        "Wrap the code that may raise an exception within a try block. This is the block of code that Python will monitor for exceptions.\n",
        "\n",
        "**2. Except Block**\n",
        "After the try block, include one or more except blocks to handle specific exceptions. Each except block defines how to handle a particular type of exception.\n",
        "\n",
        "**3. Else Block (Optional)**\n",
        "Include an else block if you want to execute code only when no exceptions are raised in the try block. The else block is placed after all except blocks.\n",
        "\n",
        "**4. Finally Block (Optional)**\n",
        "Include a finally block to define code that should run regardless of whether an exception occurred or not. The finally block is executed after the try, except, and else blocks.\n"
      ],
      "metadata": {
        "id": "jexTpFHcN0Qe"
      }
    },
    {
      "cell_type": "markdown",
      "source": [
        "13. Why is memory management important in Python?\n",
        "\n",
        "Memory management is important in Python, as in any programming language, because it ensures efficient use of system resources, maintains application performance, and prevents memory-related issues.\n",
        "\n",
        "1. Efficient Resource Utilization\n",
        "\n",
        "\n",
        "2. Preventing Memory Leaks\n",
        "\n",
        "\n",
        "3. Maintaining Performance\n",
        "\n",
        "\n",
        "4. Avoiding Fragmentation\n",
        "\n",
        "\n",
        "5. Ensuring Stability and Reliability\n",
        "\n",
        "\n",
        "6. Supporting Scalability\n",
        "\n",
        "\n",
        "7. Automatic Management"
      ],
      "metadata": {
        "id": "y2PjAi7kOVMv"
      }
    },
    {
      "cell_type": "markdown",
      "source": [
        "**14. What is the role of try and except in exception handling?**\n",
        "\n",
        "The try and except blocks play a crucial role in exception handling in Python, allowing you to catch and handle errors gracefully.\n",
        "\n",
        "**try Block**\n",
        "\n",
        "Purpose: The try block is used to wrap the code that might raise an exception. Python monitors this block for exceptions, and if an exception occurs, it transfers control to the corresponding except block.\n",
        "\n",
        "try:\n",
        "    # Code that may raise an exception\n",
        "    result = 10 / 0\n",
        "\n",
        "\n",
        "**Except Block**\n",
        "\n",
        "Purpose: The except block is used to catch and handle exceptions that occur in the try block. You can specify one or more except blocks to handle different types of exceptions. This allows you to provide specific handling for each exception type and respond appropriately.\n",
        "\n",
        "try:\n",
        "    result = 10 / 0\n",
        "\n",
        "except ZeroDivisionError:\n",
        "\n",
        "    print(\"Cannot divide by zero!\")\n"
      ],
      "metadata": {
        "id": "bfmroKKFOqS-"
      }
    },
    {
      "cell_type": "markdown",
      "source": [
        "**15. How does Python's garbage collection system work?**\n",
        "\n",
        "Python's garbage collection system works to automatically manage memory by reclaiming memory that is no longer in use. This system combines reference counting and a cyclic garbage collector to efficiently handle memory allocation and deallocation."
      ],
      "metadata": {
        "id": "aCv2bgZMPfrn"
      }
    },
    {
      "cell_type": "markdown",
      "source": [
        "**16. What is the purpose of the else block in exception handling?**\n",
        "\n",
        "Purpose of the else Block\n",
        "\n",
        "**Separation of Concerns:**\n",
        "\n",
        "The else block allows you to clearly distinguish between the code that should run when no exceptions occur and the code that handles exceptions.\n",
        "\n",
        "It helps in maintaining the clean separation of normal execution and error handling.\n",
        "\n",
        "**Improved Readability:**\n",
        "\n",
        "By using the else block, you can place the main logic of your code outside of the try block, making it easier to read and understand.\n",
        "\n",
        "It avoids mixing the main logic with exception handling code.\n"
      ],
      "metadata": {
        "id": "cHy34FmxPqfV"
      }
    },
    {
      "cell_type": "markdown",
      "source": [
        "**17. What are the common logging levels in Python?**\n",
        "\n",
        "In Python's logging module, there are several predefined logging levels that indicate the severity or importance of the messages being logged. Each logging level is associated with a numeric value, with higher values indicating higher severity. Here are the common logging levels:\n",
        "\n",
        "**DEBUG (10):**\n",
        "\n",
        "\n",
        "Detailed information, typically of interest only when diagnosing problems.\n",
        "\n",
        "Used for low-level system information for debugging purposes.\n",
        "\n",
        "**INFO (20):**\n",
        "\n",
        "Informational messages that highlight the progress of the application at a high level.\n",
        "\n",
        "Used to confirm that things are working as expected.\n",
        "\n",
        "**WARNING (30):**\n",
        "\n",
        "Indication that something unexpected happened, or indicative of some problem in the near future (e.g., 'disk space low').\n",
        "\n",
        "The software is still working as expected.\n",
        "\n",
        "**ERROR (40):**\n",
        "\n",
        "More serious problem, the software has not been able to perform some function.\n",
        "\n",
        "Used to log error messages that indicate a failure in a specific operation."
      ],
      "metadata": {
        "id": "5hVJtlT0P6Av"
      }
    },
    {
      "cell_type": "markdown",
      "source": [
        "**18. What is the difference between os.fork() and multiprocessing in Python?**\n",
        "\n",
        "**Level of Abstraction:**\n",
        "\n",
        "os.fork(): Low-level system call for creating processes, more complex to use.\n",
        "\n",
        "multiprocessing: High-level module that abstracts process creation and management, easier to use.\n",
        "\n",
        "**Portability:**\n",
        "\n",
        "os.fork(): Available only on Unix-like systems, not on Windows.\n",
        "\n",
        "multiprocessing: Cross-platform, works on both Unix-like systems and Windows.\n",
        "\n",
        "**Data Sharing and Communication:**\n",
        "\n",
        "os.fork(): Requires manual handling of inter-process communication.\n",
        "\n",
        "multiprocessing: Provides built-in mechanisms for sharing data and communication between processes.\n",
        "\n",
        "**Process Management:**\n",
        "\n",
        "os.fork(): Requires manual management of process lifecycle.\n",
        "\n",
        "multiprocessing: Provides tools for managing process pools, synchronization, and communication."
      ],
      "metadata": {
        "id": "r8vEKjEPQfNJ"
      }
    },
    {
      "cell_type": "markdown",
      "source": [
        "**19. What is the importance of closing a file in Python?**\n",
        "\n",
        "Closing a file in Python is crucial for several reasons, ensuring proper resource management and preventing potential issues\n",
        "\n",
        "**How to Close a File**\n",
        "\n",
        "You can close a file using the close() method. However, the best practice is to use the with statement, which automatically closes the file when the block of code is exited, even if an exception occurs.\n"
      ],
      "metadata": {
        "id": "dI41rQURRkhQ"
      }
    },
    {
      "cell_type": "markdown",
      "source": [
        "**20. What is the difference between file.read() and file.readline() in Python?**\n",
        "\n",
        "The file.read() and file.readline() methods in Python are both used to read data from a file, but they differ in terms of what they read and how they behave. Here's a detailed comparison:\n",
        "\n",
        "1. The file.read() method reads the entire contents of the file into a single string. You can also specify the number of characters to read by passing an argument to the method.\n",
        "\n",
        "2. The file.readline() method reads a single line from the file and returns it as a string. It includes the newline character (\\n) at the end of the line,"
      ],
      "metadata": {
        "id": "HLHfv3t8R3O1"
      }
    },
    {
      "cell_type": "markdown",
      "source": [
        "**21. What is the logging module in Python used for?**\n",
        "\n",
        "The logging module in Python is a powerful and flexible framework used for generating and managing log messages from applications. Logging helps track events that happen when some software runs, providing a way to understand the program's behavior and diagnose issues."
      ],
      "metadata": {
        "id": "2GiocWRNSS7N"
      }
    },
    {
      "cell_type": "markdown",
      "source": [
        "**22. What is the os module in Python used for in file handling?**\n",
        "\n",
        "The os module in Python is a powerful utility that provides a range of functions for interacting with the operating system, including file handling. Here are some common file handling tasks you can perform using the os module:\n",
        "\n",
        "**1. File and Directory Operations**\n",
        "\n",
        "a. Creating Directories:\n",
        "\n",
        "You can create directories using the os.mkdir() and os.makedirs() functions.\n",
        "\n",
        " b. Removing Files and Directories:\n",
        "\n",
        "You can remove files using the os.remove() function and directories using the os.rmdir() and os.removedirs() functions.\n",
        "\n",
        "c. Renaming Files and Directories:\n",
        "\n",
        "You can rename files and directories using the os.rename() function.\n",
        "\n",
        "d. Listing Directory Contents:\n",
        "\n",
        "You can list the contents of a directory using the os.listdir() function.\n",
        "\n",
        "**2. File Path Manipulations**\n",
        "\n",
        "a. Joining Paths:\n",
        "\n",
        "You can join path components using the os.path.join() function.\n",
        "\n",
        "b. Checking File or Directory Existence:\n",
        "\n",
        "You can check if a file or directory exists using the os.path.exists() function.\n",
        "\n",
        "c. Splitting Paths:\n",
        "\n",
        "You can split paths into directory and filename components using the os.path.split() function.\n",
        "\n",
        "d. Getting File Size:\n",
        "\n",
        "You can get the size of a file using the os.path.getsize() function.\n",
        "\n",
        "**3. Environment Variables**\n",
        "\n",
        "a. Accessing Environment Variables:\n",
        "\n",
        "You can access environment variables using the os.environ dictionary.\n",
        "\n",
        "b. Setting Environment Variables:\n",
        "\n",
        "You can set environment variables using the os.environ dictionary."
      ],
      "metadata": {
        "id": "VWlthK3fSfdl"
      }
    },
    {
      "cell_type": "markdown",
      "source": [
        "**23. What are the challenges associated with memory management in Python?**\n",
        "\n",
        "**1. Garbage Collection Overhead**\n",
        "Performance Impact: The garbage collector periodically checks for unused objects and reclaims memory. This can introduce performance overhead, especially in applications with a large number of objects.\n",
        "\n",
        "Tuning: While Python provides ways to tune the garbage collector (e.g., gc.set_threshold()), finding the right balance between memory usage and performance can be challenging.\n",
        "\n",
        "**2. Cyclic References**\n",
        "Detection and Collection: Cyclic references (objects that reference each other) are not immediately collected by reference counting alone. The cyclic garbage collector must identify and handle these cycles, which can be resource-intensive.\n",
        "\n",
        "Programming Discipline: Developers need to be mindful of creating cyclic references and use weak references (weakref module) when appropriate to mitigate this issue.\n",
        "\n",
        "**3. Memory Leaks**\n",
        "Undetected Memory Leaks: Memory leaks can still occur if objects are unintentionally kept alive due to lingering references. Detecting and resolving these leaks can be difficult.\n",
        "\n",
        "Tooling: Using tools like objgraph and tracemalloc can help identify memory leaks, but it requires additional effort and expertise.\n",
        "\n",
        "**4. Fragmentation**\n",
        "Heap Fragmentation: Frequent allocation and deallocation of small objects can lead to memory fragmentation, where free memory is divided into small, non-contiguous blocks. This can degrade performance over time.\n",
        "\n",
        "Optimization: Python's memory allocator (pymalloc) is designed to mitigate fragmentation, but developers need to be aware of how their memory usage patterns can impact it.\n",
        "\n",
        "**5. Large Object Handling**\n",
        "Memory Consumption: Handling large objects (e.g., large lists, dictionaries, or arrays) can consume significant memory. Managing memory efficiently for such objects requires careful planning.\n",
        "\n",
        "Data Structures: Choosing the right data structures and algorithms can help minimize memory usage, but it requires a good understanding of their trade-offs.\n",
        "\n",
        "**6. Global Interpreter Lock (GIL)**\n",
        "Concurrency Limitations: The GIL limits the execution of multiple threads in CPython, impacting the performance of multi-threaded applications, especially those that are CPU-bound.\n",
        "\n",
        "Multiprocessing: Developers often need to use the multiprocessing module instead of threading to achieve true parallelism, which introduces additional complexity.\n",
        "\n",
        "**7. Portability and Platform Differences**\n",
        "Different Implementations: Memory management behavior can vary between different Python implementations (e.g., CPython, PyPy, Jython). This can affect the portability of memory management strategies.\n",
        "\n",
        "Platform-Specific Issues"
      ],
      "metadata": {
        "id": "ZVD2wa01TnX3"
      }
    },
    {
      "cell_type": "markdown",
      "source": [
        "**24. How do you raise an exception manually in Python?**\n",
        "\n",
        "In Python, you can manually raise exceptions using the raise statement.\n",
        "\n",
        "Here's a simple example:\n",
        "\n",
        "def divide(a, b):\n",
        "\n",
        "    if b == 0:\n",
        "        raise ValueError(\"Cannot divide by zero!\")\n",
        "    return a / b\n",
        "\n",
        "try:\n",
        "\n",
        "    result = divide(10, 0)\n",
        "except ValueError as e:\n",
        "    print(f\"An error occurred: {e}\")\n"
      ],
      "metadata": {
        "id": "kS_ZWIqoT-LO"
      }
    },
    {
      "cell_type": "markdown",
      "source": [
        "**25. Why is it important to use multithreading in certain applications?**\n",
        "\n",
        "Multithreading is important in certain applications because it allows for concurrent execution of tasks, which can lead to improved performance and responsiveness."
      ],
      "metadata": {
        "id": "tKQvCZ9YUWjl"
      }
    },
    {
      "cell_type": "markdown",
      "source": [
        "**Practical Questions**\n"
      ],
      "metadata": {
        "id": "iLbyjxG8UiQN"
      }
    },
    {
      "cell_type": "code",
      "source": [
        "1.  How can you open a file for writing in Python and write a string to it?\n",
        "\n",
        "# Open the file in write mode ('w')\n",
        "with open(\"example.txt\", \"w\") as file:\n",
        "    # Write a string to the file\n",
        "    file.write(\"Hello, world!\")\n",
        "\n",
        "print(\"String written to the file successfully!\")\n"
      ],
      "metadata": {
        "id": "TNeazFEjUozw"
      },
      "execution_count": null,
      "outputs": []
    },
    {
      "cell_type": "code",
      "source": [
        " 2. Write a Python program to read the contents of a file and print each line?\n",
        "\n",
        " # Open the file in read mode ('r')\n",
        "with open(\"example.txt\", \"r\") as file:\n",
        "    # Read and print each line from the file\n",
        "    for line in file:\n",
        "        print(line.strip())\n",
        "\n",
        "print(\"File contents read and printed successfully!\")\n"
      ],
      "metadata": {
        "id": "4n2lsacvUy7F"
      },
      "execution_count": null,
      "outputs": []
    },
    {
      "cell_type": "code",
      "source": [
        "3. How would you handle a case where the file doesn't exist while trying to open it for reading?\n",
        "\n",
        "try:\n",
        "    # Attempt to open the file in read mode ('r')\n",
        "    with open(\"example.txt\", \"r\") as file:\n",
        "        # Read and print each line from the file\n",
        "        for line in file:\n",
        "            print(line.strip())\n",
        "except FileNotFoundError:\n",
        "    print(\"The file does not exist. Please check the file name and try again.\")\n",
        "\n",
        "print(\"Operation completed.\")\n"
      ],
      "metadata": {
        "id": "y5gDNM5SU9RV"
      },
      "execution_count": null,
      "outputs": []
    },
    {
      "cell_type": "code",
      "source": [
        "4. Write a Python script that reads from one file and writes its content to another file.\n",
        "\n",
        "def copy_file(source_file, destination_file):\n",
        "    try:\n",
        "        # Open the source file in read mode ('r')\n",
        "        with open(source_file, \"r\") as src:\n",
        "            # Read the contents of the source file\n",
        "            content = src.read()\n",
        "\n",
        "        # Open the destination file in write mode ('w')\n",
        "        with open(destination_file, \"w\") as dest:\n",
        "            # Write the content to the destination file\n",
        "            dest.write(content)\n",
        "\n",
        "        print(\"File copied successfully!\")\n",
        "    except FileNotFoundError:\n",
        "        print(\"The source file does not exist. Please check the file name and try again.\")\n",
        "    except Exception as e:\n",
        "        print(f\"An error occurred: {e}\")\n",
        "\n",
        "# Specify the source and destination file paths\n",
        "source_file_path = \"source.txt\"\n",
        "destination_file_path = \"destination.txt\"\n",
        "\n",
        "# Call the function to copy the file\n",
        "copy_file(source_file_path, destination_file_path)\n"
      ],
      "metadata": {
        "id": "WVc9tVuOVD_V"
      },
      "execution_count": null,
      "outputs": []
    },
    {
      "cell_type": "code",
      "source": [
        "5. How would you catch and handle division by zero error in Python?\n",
        "\n",
        "def safe_divide(a, b):\n",
        "    try:\n",
        "        result = a / b\n",
        "        print(f\"The result is: {result}\")\n",
        "    except ZeroDivisionError:\n",
        "        print(\"Error: Cannot divide by zero!\")\n",
        "\n",
        "# Example usage\n",
        "safe_divide(10, 2)  # This will print: The result is: 5.0\n",
        "safe_divide(10, 0)  # This will print: Error: Cannot divide by zero!\n"
      ],
      "metadata": {
        "id": "tOwJNrOdVMU1"
      },
      "execution_count": null,
      "outputs": []
    },
    {
      "cell_type": "code",
      "source": [
        "6. Write a Python program that logs an error message to a log file when a division by zero exception occurs.\n",
        "\n",
        "import logging\n",
        "\n",
        "# Configure logging settings\n",
        "logging.basicConfig(filename='error.log', level=logging.ERROR,\n",
        "                    format='%(asctime)s - %(levelname)s - %(message)s')\n",
        "\n",
        "def safe_divide(a, b):\n",
        "    try:\n",
        "        result = a / b\n",
        "        print(f\"The result is: {result}\")\n",
        "    except ZeroDivisionError:\n",
        "        logging.error(\"Error: Division by zero occurred.\")\n",
        "        print(\"Error: Cannot divide by zero! An error has been logged.\")\n",
        "\n",
        "# Example usage\n",
        "safe_divide(10, 2)  # This will print: The result is: 5.0\n",
        "safe_divide(10, 0)  # This will print: Error: Cannot divide by zero! An error has been logged.\n"
      ],
      "metadata": {
        "id": "R8JUjpIeVTZN"
      },
      "execution_count": null,
      "outputs": []
    },
    {
      "cell_type": "code",
      "source": [
        "7. How do you log information at different levels (INFO, ERROR, WARNING) in Python using the logging module?\n",
        "\n",
        "import logging\n",
        "\n",
        "# Configure logging settings\n",
        "logging.basicConfig(level=logging.DEBUG,\n",
        "                    format='%(asctime)s - %(levelname)s - %(message)s')\n",
        "\n",
        "# Log messages at different levels\n",
        "logging.debug(\"This is a debug message\")\n",
        "logging.info(\"This is an info message\")\n",
        "logging.warning(\"This is a warning message\")\n",
        "logging.error(\"This is an error message\")\n",
        "logging.critical(\"This is a critical message\")\n"
      ],
      "metadata": {
        "id": "V_W_ns3SVae1"
      },
      "execution_count": null,
      "outputs": []
    },
    {
      "cell_type": "code",
      "source": [
        "8. Write a program to handle a file opening error using exception handling.\n",
        "\n",
        "def read_file(file_path):\n",
        "    try:\n",
        "        # Attempt to open the file in read mode ('r')\n",
        "        with open(file_path, \"r\") as file:\n",
        "            # Read and print each line from the file\n",
        "            for line in file:\n",
        "                print(line.strip())\n",
        "        print(\"File read successfully!\")\n",
        "    except FileNotFoundError:\n",
        "        print(f\"Error: The file '{file_path}' does not exist. Please check the file name and try again.\")\n",
        "    except Exception as e:\n",
        "        print(f\"An unexpected error occurred: {e}\")\n",
        "\n",
        "# Example usage\n",
        "file_path = \"example.txt\"\n",
        "read_file(file_path)\n"
      ],
      "metadata": {
        "id": "nkuzpyqfVis1"
      },
      "execution_count": null,
      "outputs": []
    },
    {
      "cell_type": "code",
      "source": [
        "9.  How can you read a file line by line and store its content in a list in Python?\n",
        "\n",
        "def read_file_into_list(file_path):\n",
        "    try:\n",
        "        # Open the file in read mode ('r')\n",
        "        with open(file_path, \"r\") as file:\n",
        "            # Read each line and store it in a list\n",
        "            lines = [line.strip() for line in file]\n",
        "        return lines\n",
        "    except FileNotFoundError:\n",
        "        print(f\"Error: The file '{file_path}' does not exist. Please check the file name and try again.\")\n",
        "        return []\n",
        "    except Exception as e:\n",
        "        print(f\"An unexpected error occurred: {e}\")\n",
        "        return []\n",
        "\n",
        "# Example usage\n",
        "file_path = \"example.txt\"\n",
        "lines = read_file_into_list(file_path)\n",
        "print(lines)\n"
      ],
      "metadata": {
        "id": "dBmECs1qVq21"
      },
      "execution_count": null,
      "outputs": []
    },
    {
      "cell_type": "code",
      "source": [
        "10. How can you append data to an existing file in Python?\n",
        "\n",
        "# Open the file in append mode ('a')\n",
        "with open(\"example.txt\", \"a\") as file:\n",
        "    # Append a string to the file\n",
        "    file.write(\"\\nThis is an appended line.\")\n",
        "\n",
        "print(\"Data appended to the file successfully!\")\n"
      ],
      "metadata": {
        "id": "7NdPz-76V5v1"
      },
      "execution_count": null,
      "outputs": []
    },
    {
      "cell_type": "code",
      "source": [
        "11. Write a Python program that uses a try-except block to handle an error when attempting to access a\n",
        "dictionary key that doesn't exist.\n",
        "\n",
        "def get_value_from_dict(dictionary, key):\n",
        "    try:\n",
        "        # Attempt to access the value for the given key\n",
        "        value = dictionary[key]\n",
        "        print(f\"The value for '{key}' is: {value}\")\n",
        "    except KeyError:\n",
        "        print(f\"Error: The key '{key}' does not exist in the dictionary.\")\n",
        "\n",
        "# Example usage\n",
        "my_dict = {\"name\": \"Alice\", \"age\": 30, \"city\": \"Bengaluru\"}\n",
        "get_value_from_dict(my_dict, \"name\")  # This will print: The value for 'name' is: Alice\n",
        "get_value_from_dict(my_dict, \"country\")  # This will print: Error: The key 'country' does not exist in the dictionary.\n"
      ],
      "metadata": {
        "id": "QH02k74fWFyt"
      },
      "execution_count": null,
      "outputs": []
    },
    {
      "cell_type": "code",
      "source": [
        "12.  Write a program that demonstrates using multiple except blocks to handle different types of exceptions?\n",
        "\n",
        "def safe_divide(a, b):\n",
        "    try:\n",
        "        result = a / b\n",
        "        print(f\"The result is: {result}\")\n",
        "    except ZeroDivisionError:\n",
        "        print(\"Error: Cannot divide by zero!\")\n",
        "    except TypeError:\n",
        "        print(\"Error: Both operands must be numbers!\")\n",
        "    except Exception as e:\n",
        "        print(f\"An unexpected error occurred: {e}\")\n",
        "\n",
        "# Example usage\n",
        "safe_divide(10, 2)     # This will print: The result is: 5.0\n",
        "safe_divide(10, 0)     # This will print: Error: Cannot divide by zero!\n",
        "safe_divide(10, \"two\") # This will print: Error: Both operands must be numbers!\n",
        "safe_divide(\"ten\", 2)  # This will print: Error: Both operands must be numbers!\n",
        "safe_divide(None"
      ],
      "metadata": {
        "id": "r4BwYfoFWP9d"
      },
      "execution_count": null,
      "outputs": []
    },
    {
      "cell_type": "code",
      "source": [
        "13. How would you check if a file exists before attempting to read it in Python?\n",
        "\n",
        "import os\n",
        "\n",
        "file_path = \"example.txt\"\n",
        "\n",
        "if os.path.exists(file_path):\n",
        "    with open(file_path, \"r\") as file:\n",
        "        content = file.read()\n",
        "        print(content)\n",
        "else:\n",
        "    print(f\"Error: The file '{file_path}' does not exist.\")\n"
      ],
      "metadata": {
        "id": "1DCVKM40WYmc"
      },
      "execution_count": null,
      "outputs": []
    },
    {
      "cell_type": "code",
      "source": [
        "14. Write a program that uses the logging module to log both informational and error messages.\n",
        "\n",
        "import logging\n",
        "\n",
        "# Configure logging settings\n",
        "logging.basicConfig(filename='app.log', level=logging.DEBUG,\n",
        "                    format='%(asctime)s - %(levelname)s - %(message)s')\n",
        "\n",
        "def safe_divide(a, b):\n",
        "    try:\n",
        "        logging.info(\"Attempting to divide %s by %s\", a, b)\n",
        "        result = a / b\n",
        "        logging.info(\"Division successful: %s / %s = %s\", a, b, result)\n",
        "        return result\n",
        "    except ZeroDivisionError:\n",
        "        logging.error(\"Error: Cannot divide by zero!\")\n",
        "    except TypeError:\n",
        "        logging.error(\"Error: Both operands must be numbers!\")\n",
        "    except Exception as e:\n",
        "        logging.error(\"An unexpected error occurred: %s\", e)\n",
        "\n",
        "# Example usage\n",
        "safe_divide(10, 2)     # This will log: INFO messages for successful division\n",
        "safe_divide(10, 0)     # This will log: ERROR message for division by zero\n",
        "safe_divide(10, \"two\") # This will log: ERROR message for TypeError\n",
        "safe_divide(\"ten\", 2)  # This will log: ERROR message for TypeError\n",
        "safe_divide(None, 2)   # This will log: ERROR message for unexpected error\n",
        "\n",
        "# Print a message to indicate that logging is complete\n",
        "print(\"Logging complete. Check the 'app.log' file for log messages.\")\n"
      ],
      "metadata": {
        "id": "Qn-bZs0MWgN9"
      },
      "execution_count": null,
      "outputs": []
    },
    {
      "cell_type": "code",
      "source": [
        "15. Write a Python program that prints the content of a file and handles the case when the file is empty.\n",
        "\n",
        "def print_file_content(file_path):\n",
        "    try:\n",
        "        # Open the file in read mode ('r')\n",
        "        with open(file_path, \"r\") as file:\n",
        "            content = file.read()\n",
        "\n",
        "            # Check if the file is empty\n",
        "            if not content:\n",
        "                print(\"The file is empty.\")\n",
        "            else:\n",
        "                print(\"File content:\")\n",
        "                print(content)\n",
        "\n",
        "    except FileNotFoundError:\n",
        "        print(f\"Error: The file '{file_path}' does not exist. Please check the file name and try again.\")\n",
        "    except Exception as e:\n",
        "        print(f\"An unexpected error occurred: {e}\")\n",
        "\n",
        "# Example usage\n",
        "file_path = \"example.txt\"\n",
        "print_file_content(file_path)\n"
      ],
      "metadata": {
        "id": "C1krWv-4Wod9"
      },
      "execution_count": null,
      "outputs": []
    },
    {
      "cell_type": "code",
      "source": [
        "16. Demonstrate how to use memory profiling to check the memory usage of a small program?\n",
        "\n",
        "from memory_profiler import profile\n",
        "import time\n",
        "\n",
        "@profile\n",
        "def my_function():\n",
        "    # Simulate a memory-consuming operation\n",
        "    my_list = [i for i in range(100000)]\n",
        "    time.sleep(2)\n",
        "    return my_list\n",
        "\n",
        "if __name__ == \"__main__\":\n",
        "    my_function()\n"
      ],
      "metadata": {
        "id": "NTbKjBy4Wukl"
      },
      "execution_count": null,
      "outputs": []
    },
    {
      "cell_type": "code",
      "source": [
        "17. Write a Python program to create and write a list of numbers to a file, one number per line?\n",
        "\n",
        "def write_numbers_to_file(file_path, numbers):\n",
        "    try:\n",
        "        # Open the file in write mode ('w')\n",
        "        with open(file_path, \"w\") as file:\n",
        "            # Write each number to the file, one per line\n",
        "            for number in numbers:\n",
        "                file.write(f\"{number}\\n\")\n",
        "        print(\"Numbers written to the file successfully!\")\n",
        "    except Exception as e:\n",
        "        print(f\"An unexpected error occurred: {e}\")\n",
        "\n",
        "# Example usage\n",
        "numbers_list = [1, 2, 3, 4, 5, 6, 7, 8, 9, 10]\n",
        "file_path = \"numbers.txt\"\n",
        "write_numbers_to_file(file_path, numbers_list)\n"
      ],
      "metadata": {
        "id": "BHSFWhAbW26V"
      },
      "execution_count": null,
      "outputs": []
    },
    {
      "cell_type": "code",
      "source": [
        "18. How would you implement a basic logging setup that logs to a file with rotation after 1MB?\n",
        "\n",
        "import logging\n",
        "from logging.handlers import RotatingFileHandler\n",
        "\n",
        "# Configure logging settings\n",
        "log_file = 'app.log'\n",
        "logging.basicConfig(level=logging.DEBUG,\n",
        "                    format='%(asctime)s - %(levelname)s - %(message)s')\n",
        "\n",
        "# Create a rotating file handler\n",
        "handler = RotatingFileHandler(log_file, maxBytes=1*1024*1024, backupCount=5)\n",
        "handler.setLevel(logging.DEBUG)\n",
        "handler.setFormatter(logging.Formatter('%(asctime)s - %(levelname)s - %(message)s'))\n",
        "\n",
        "# Add the handler to the root logger\n",
        "logging.getLogger().addHandler(handler)\n",
        "\n",
        "# Example log messages\n",
        "logging.debug(\"This is a debug message\")\n",
        "logging.info(\"This is an info message\")\n",
        "logging.warning(\"This is a warning message\")\n",
        "logging.error(\"This is an error message\")\n",
        "logging.critical(\"This is a critical message\")\n",
        "\n",
        "print(\"Logging setup complete. Check the 'app.log' file for log messages.\")\n"
      ],
      "metadata": {
        "id": "ZSLanMEkW_TV"
      },
      "execution_count": null,
      "outputs": []
    },
    {
      "cell_type": "code",
      "source": [
        "19. Write a program that handles both IndexError and KeyError using a try-except block.\n",
        "\n",
        "def access_elements(data, index, key):\n",
        "    try:\n",
        "        # Attempt to access the element at the given index in the list\n",
        "        list_element = data['list'][index]\n",
        "        print(f\"Element at index {index} in the list is: {list_element}\")\n",
        "\n",
        "        # Attempt to access the value for the given key in the dictionary\n",
        "        dict_value = data['dict'][key]\n",
        "        print(f\"The value for key '{key}' in the dictionary is: {dict_value}\")\n",
        "\n",
        "    except IndexError:\n",
        "        print(f\"Error: The index {index} is out of range in the list.\")\n",
        "    except KeyError:\n",
        "        print(f\"Error: The key '{key}' does not exist in the dictionary.\")\n",
        "    except Exception as e:\n",
        "        print(f\"An unexpected error occurred: {e}\")\n",
        "\n",
        "# Example usage\n",
        "data = {\n",
        "    'list': [1, 2, 3, 4, 5],\n",
        "    'dict': {'a': 10, 'b': 20, 'c': 30}\n",
        "}\n",
        "\n",
        "access_elements(data, 2, 'b')  # Valid index and key\n",
        "access_elements(data, 10, 'b') # Invalid index\n",
        "access_elements(data, 2, 'z')  # Invalid key\n"
      ],
      "metadata": {
        "id": "MYFc-cMsXLAt"
      },
      "execution_count": null,
      "outputs": []
    },
    {
      "cell_type": "code",
      "source": [
        "20.  How would you open a file and read its contents using a context manager in Python?\n",
        "\n",
        "# Open the file in read mode ('r') using a context manager\n",
        "with open(\"example.txt\", \"r\") as file:\n",
        "    # Read the entire contents of the file\n",
        "    content = file.read()\n",
        "\n",
        "# Print the contents of the file\n",
        "print(content)\n"
      ],
      "metadata": {
        "id": "GM8e_THHXUqt"
      },
      "execution_count": null,
      "outputs": []
    },
    {
      "cell_type": "code",
      "source": [
        "21. Write a Python program that reads a file and prints the number of occurrences of a specific word?\n",
        "\n",
        "def count_word_occurrences(file_path, word):\n",
        "    try:\n",
        "        # Open the file in read mode ('r')\n",
        "        with open(file_path, \"r\") as file:\n",
        "            # Read the contents of the file\n",
        "            content = file.read()\n",
        "\n",
        "        # Count the number of occurrences of the specific word\n",
        "        word_count = content.lower().split().count(word.lower())\n",
        "        print(f\"The word '{word}' occurs {word_count} times in the file.\")\n",
        "    except FileNotFoundError:\n",
        "        print(f\"Error: The file '{file_path}' does not exist. Please check the file name and try again.\")\n",
        "    except Exception as e:\n",
        "        print(f\"An unexpected error occurred: {e}\")\n",
        "\n",
        "# Example usage\n",
        "file_path = \"example.txt\"\n",
        "word_to_count = \"Python\"\n",
        "count_word_occurrences(file_path, word_to_count)\n"
      ],
      "metadata": {
        "id": "PAQd887wXeHd"
      },
      "execution_count": null,
      "outputs": []
    },
    {
      "cell_type": "code",
      "source": [
        "22.  How can you check if a file is empty before attempting to read its contents?\n",
        "\n",
        "import os\n",
        "\n",
        "def is_file_empty(file_path):\n",
        "    # Check if the file exists\n",
        "    if os.path.exists(file_path):\n",
        "        # Get the size of the file\n",
        "        file_size = os.path.getsize(file_path)\n",
        "        return file_size == 0\n",
        "    else:\n",
        "        raise FileNotFoundError(f\"The file '{file_path}' does not exist.\")\n",
        "\n",
        "# Example usage\n",
        "file_path = \"example.txt\"\n",
        "\n",
        "try:\n",
        "    if is_file_empty(file_path):\n",
        "        print(f\"The file '{file_path}' is empty.\")\n",
        "    else:\n",
        "        # Open and read the file if it is not empty\n",
        "        with open(file_path, \"r\") as file:\n",
        "            content = file.read()\n",
        "            print(\"File content:\")\n",
        "            print(content)\n",
        "except FileNotFoundError as e:\n",
        "    print(e)\n",
        "except Exception as e:\n",
        "    print(f\"An unexpected error occurred: {e}\")\n"
      ],
      "metadata": {
        "id": "nN8LNx3yXlJW"
      },
      "execution_count": null,
      "outputs": []
    },
    {
      "cell_type": "code",
      "source": [
        "23.  Write a Python program that writes to a log file when an error occurs during file handling.\n",
        "\n",
        "import logging\n",
        "\n",
        "# Configure logging settings\n",
        "logging.basicConfig(filename='file_errors.log', level=logging.ERROR,\n",
        "                    format='%(asctime)s - %(levelname)s - %(message)s')\n",
        "\n",
        "def read_file(file_path):\n",
        "    try:\n",
        "        # Attempt to open the file in read mode ('r')\n",
        "        with open(file_path, \"r\") as file:\n",
        "            content = file.read()\n",
        "            print(\"File content:\")\n",
        "            print(content)\n",
        "    except FileNotFoundError:\n",
        "        logging.error(\"Error: The file '%s' does not exist.\", file_path)\n",
        "        print(f\"Error: The file '{file_path}' does not exist. An error has been logged.\")\n",
        "    except Exception as e:\n",
        "        logging.error(\"An unexpected error occurred: %s\", e)\n",
        "        print(f\"An unexpected error occurred: {e}. An error has been logged.\")\n",
        "\n",
        "# Example usage\n",
        "file_path = \"example.txt\"\n",
        "read_file(file_path)\n"
      ],
      "metadata": {
        "id": "eQV2tMVWXtAt"
      },
      "execution_count": null,
      "outputs": []
    }
  ]
}